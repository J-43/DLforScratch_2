{
 "cells": [
  {
   "cell_type": "markdown",
   "metadata": {},
   "source": [
    "## 3.2.1 CBOW 모델의 추론 처리\n",
    "- word2vec에서 제안하는 CBOW(continuous bag of words)\n",
    "- CBOW모델은 맥락으로부터 타깃을 추측하는 용도의 신경망 ('타깃'은 중앙단어, 그 주변단어들 '맥락')\n"
   ]
  },
  {
   "cell_type": "code",
   "execution_count": 1,
   "metadata": {},
   "outputs": [
    {
     "name": "stdout",
     "output_type": "stream",
     "text": [
      "[[ 0.10662298 -0.32399119 -2.10795936 -0.67770045 -0.20823906  0.01294459\n",
      "   1.90261372]]\n"
     ]
    }
   ],
   "source": [
    "# CBOW 모델의 추론 처리\n",
    "\n",
    "import sys\n",
    "sys.path.append('..')\n",
    "import numpy as np\n",
    "from common.layers import MatMul\n",
    "\n",
    "\n",
    "# 샘플 맥락 데이터\n",
    "c0 = np.array([[1, 0, 0, 0, 0, 0, 0]])\n",
    "c1 = np.array([[0, 0, 1, 0, 0, 0, 0]])\n",
    "\n",
    "# 가중치 초기화\n",
    "W_in = np.random.randn(7, 3)\n",
    "W_out = np.random.randn(3, 7)\n",
    "\n",
    "# 계층 생성\n",
    "in_layer0 = MatMul(W_in)\n",
    "in_layer1 = MatMul(W_in)\n",
    "out_layer = MatMul(W_out)\n",
    "\n",
    "# 순전파\n",
    "h0 = in_layer0.forward(c0)\n",
    "h1 = in_layer1.forward(c1)\n",
    "h = 0.5 * (h0 + h1)\n",
    "s = out_layer.forward(h)\n",
    "\n",
    "\n",
    "print(s)"
   ]
  },
  {
   "cell_type": "code",
   "execution_count": 2,
   "metadata": {},
   "outputs": [
    {
     "data": {
      "text/plain": [
       "array([[-0.58686072,  1.65672174, -0.08867621],\n",
       "       [ 0.19770438,  0.57404758,  0.43798132],\n",
       "       [ 1.53980342, -1.76175597, -3.19226505],\n",
       "       [-1.32237004, -1.04524765,  1.41698351],\n",
       "       [-0.46987279,  0.83083684, -1.02425934],\n",
       "       [ 2.51436819,  1.36949258, -0.17283239],\n",
       "       [-1.7102484 ,  0.76480635, -0.73610025]])"
      ]
     },
     "execution_count": 2,
     "metadata": {},
     "output_type": "execute_result"
    }
   ],
   "source": [
    "W_in"
   ]
  },
  {
   "cell_type": "code",
   "execution_count": 3,
   "metadata": {},
   "outputs": [
    {
     "data": {
      "text/plain": [
       "array([[-1.05891693,  1.40052554, -1.01397588,  0.61676915, -0.26031147,\n",
       "         1.31239812,  0.82523594],\n",
       "       [ 0.03345433,  2.04029699,  0.51244728,  1.42823615,  0.69727477,\n",
       "         0.28136207,  0.10355747],\n",
       "       [-0.37362661,  0.53896178,  0.9740599 ,  0.54653001,  0.02900951,\n",
       "         0.36428521, -0.92342463]])"
      ]
     },
     "execution_count": 3,
     "metadata": {},
     "output_type": "execute_result"
    }
   ],
   "source": [
    "W_out"
   ]
  },
  {
   "cell_type": "code",
   "execution_count": 7,
   "metadata": {},
   "outputs": [
    {
     "data": {
      "text/plain": [
       "array([[-0.58686072,  1.65672174, -0.08867621]])"
      ]
     },
     "execution_count": 7,
     "metadata": {},
     "output_type": "execute_result"
    }
   ],
   "source": [
    "h0"
   ]
  },
  {
   "cell_type": "code",
   "execution_count": 8,
   "metadata": {},
   "outputs": [
    {
     "data": {
      "text/plain": [
       "array([[ 1.53980342, -1.76175597, -3.19226505]])"
      ]
     },
     "execution_count": 8,
     "metadata": {},
     "output_type": "execute_result"
    }
   ],
   "source": [
    "h1"
   ]
  },
  {
   "cell_type": "code",
   "execution_count": 9,
   "metadata": {},
   "outputs": [
    {
     "data": {
      "text/plain": [
       "array([[ 0.47647135, -0.05251711, -1.64047063]])"
      ]
     },
     "execution_count": 9,
     "metadata": {},
     "output_type": "execute_result"
    }
   ],
   "source": [
    "h"
   ]
  },
  {
   "cell_type": "code",
   "execution_count": 10,
   "metadata": {},
   "outputs": [
    {
     "data": {
      "text/plain": [
       "array([[ 0.10662298, -0.32399119, -2.10795936, -0.67770045, -0.20823906,\n",
       "         0.01294459,  1.90261372]])"
      ]
     },
     "execution_count": 10,
     "metadata": {},
     "output_type": "execute_result"
    }
   ],
   "source": [
    "s"
   ]
  },
  {
   "cell_type": "markdown",
   "metadata": {},
   "source": [
    "- 필요한 가중치 W_in, W_out 초기화.\n",
    "- 입력층을 처리하는 MatMul계층을 맥락 수 만큼 생성\n",
    "- 출력층을 처리하는 MatMul게층은 1개만 생성\n",
    "- MutMul계층들(in_layer0,in_layer1)의 forward() 메서드를 호출해 중간 데이터를 계산\n",
    "- 출력층 측의 MatMul계층(out_layer)을 통과시켜 각 단어의 점수를 구함."
   ]
  },
  {
   "cell_type": "markdown",
   "metadata": {},
   "source": [
    "## 3.2.2 CBOW모델의 학습\n",
    "- 출력한 각 단어의 점수를 소프트맥스 함수에 적용하면 '확률'을 얻을 수 있음.\n",
    "- 이 확률은 맥락(전후단어)이 주어졌을때 그 중앙에 어떤 단어가 출현하는지를 나타냄.\n",
    "- CBOW 모델의 학습에서는 올바른 예측을 할 수 있도록 가중치를 조정하는 일.\n",
    "\n",
    "## 3.2.3 word2vec의 가중치와 분산표현"
   ]
  },
  {
   "cell_type": "code",
   "execution_count": null,
   "metadata": {},
   "outputs": [],
   "source": []
  }
 ],
 "metadata": {
  "kernelspec": {
   "display_name": "aiffel",
   "language": "python",
   "name": "aiffel"
  },
  "language_info": {
   "codemirror_mode": {
    "name": "ipython",
    "version": 3
   },
   "file_extension": ".py",
   "mimetype": "text/x-python",
   "name": "python",
   "nbconvert_exporter": "python",
   "pygments_lexer": "ipython3",
   "version": "3.7.6"
  }
 },
 "nbformat": 4,
 "nbformat_minor": 4
}
