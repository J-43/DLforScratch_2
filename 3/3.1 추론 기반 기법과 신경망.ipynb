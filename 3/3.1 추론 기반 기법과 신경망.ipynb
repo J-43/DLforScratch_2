{
 "cells": [
  {
   "cell_type": "markdown",
   "metadata": {},
   "source": [
    "## 3.1.1. 통계기반기법의 문제점\n",
    "- 통계기반기법은 학습 데이터를 한꺼번에 처리.(배치학습)\n",
    "- 이에반해 추론기반기법은 학습 데이터의 일부를 사용하여 순차적으로 학습.(미니배치 학습)\n",
    "\n",
    "## 3.1.2 추론기반기법 개요\n",
    "\n",
    "## 3.1.3 신경망에서의 단어처리\n"
   ]
  },
  {
   "cell_type": "code",
   "execution_count": 3,
   "metadata": {
    "scrolled": true
   },
   "outputs": [
    {
     "name": "stdout",
     "output_type": "stream",
     "text": [
      "[[-0.5470141   0.87953549 -1.9796911 ]\n",
      " [-0.44809081  1.81762624  0.41148296]\n",
      " [-0.07859069 -1.49477029  0.85503614]\n",
      " [ 0.34582574 -0.00309315  0.67491193]\n",
      " [-0.02905162 -1.49241876 -0.61300623]\n",
      " [-1.44947315 -0.87474326 -0.17598388]\n",
      " [ 0.42399133  1.55493571  0.75736394]]\n"
     ]
    },
    {
     "data": {
      "text/plain": [
       "array([[-0.5470141 ,  0.87953549, -1.9796911 ]])"
      ]
     },
     "execution_count": 3,
     "metadata": {},
     "output_type": "execute_result"
    }
   ],
   "source": [
    "# 완전연결계층에 의한 변환\n",
    "\n",
    "import numpy as np\n",
    "\n",
    "c = np.array([[1,0,0,0,0,0,0]])  #입력\n",
    "W = np.random.randn(7,3)         #가중치\n",
    "h = np.matmul(c,W)               #중간노드\n",
    "\n",
    "print(W)\n",
    "h"
   ]
  },
  {
   "cell_type": "markdown",
   "metadata": {},
   "source": [
    "- 단어 ID가 0인 단어를 원핫 표현으로 표현한 다음 완전연결계층을 통과시켜 변환.\n",
    "- c는 원핫표혐이므로 단어ID에 대응하는 원소만 1, 그 외에는 0인 벡터\n",
    "- 앞 코드의 c와 W의 행렬곱은 가중치의 행벡터 하나를 '뽑아낸'것"
   ]
  },
  {
   "cell_type": "code",
   "execution_count": 6,
   "metadata": {},
   "outputs": [
    {
     "name": "stdout",
     "output_type": "stream",
     "text": [
      "[[ 1.20657833 -0.50646748 -0.68486714]\n",
      " [ 0.43408102 -0.65034453 -0.09529475]\n",
      " [ 0.94358475  0.49425279 -1.82473031]\n",
      " [ 0.51420386 -0.68296673 -0.66574479]\n",
      " [ 0.6507916   0.8509618   1.16550071]\n",
      " [ 2.23606458  0.67564984  1.5168699 ]\n",
      " [-1.29148275 -0.68057908 -1.82222547]]\n"
     ]
    },
    {
     "data": {
      "text/plain": [
       "array([[ 1.20657833, -0.50646748, -0.68486714]])"
      ]
     },
     "execution_count": 6,
     "metadata": {},
     "output_type": "execute_result"
    }
   ],
   "source": [
    "# MatMul 계층으로 수행\n",
    "\n",
    "import sys\n",
    "sys.path.append('..')\n",
    "import numpy as np\n",
    "from common.layers import MatMul\n",
    "\n",
    "c = np.array([[1,0,0,0,0,0,0]]) \n",
    "W = np.random.randn(7,3)     \n",
    "layer = MatMul(W)\n",
    "h = layer.forward(c)\n",
    "\n",
    "print(W)\n",
    "h"
   ]
  },
  {
   "cell_type": "code",
   "execution_count": null,
   "metadata": {},
   "outputs": [],
   "source": []
  }
 ],
 "metadata": {
  "kernelspec": {
   "display_name": "aiffel",
   "language": "python",
   "name": "aiffel"
  },
  "language_info": {
   "codemirror_mode": {
    "name": "ipython",
    "version": 3
   },
   "file_extension": ".py",
   "mimetype": "text/x-python",
   "name": "python",
   "nbconvert_exporter": "python",
   "pygments_lexer": "ipython3",
   "version": "3.7.6"
  }
 },
 "nbformat": 4,
 "nbformat_minor": 4
}
