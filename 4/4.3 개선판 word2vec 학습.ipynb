{
 "cells": [
  {
   "cell_type": "markdown",
   "metadata": {},
   "source": [
    "## 4.3.1 CBOW 모델 구현"
   ]
  },
  {
   "cell_type": "code",
   "execution_count": 1,
   "metadata": {},
   "outputs": [],
   "source": [
    "import sys\n",
    "sys.path.append('..')\n",
    "from common.np import *  # import numpy as np\n",
    "from common.layers import Embedding\n",
    "from common.negative_sampling_layer import NegativeSamplingLoss\n",
    "\n",
    "\n",
    "class CBOW:\n",
    "    def __init__(self, vocab_size, hidden_size, window_size, corpus):\n",
    "        V, H = vocab_size, hidden_size\n",
    "\n",
    "        # 가중치 초기화\n",
    "        W_in = 0.01 * np.random.randn(V, H).astype('f')\n",
    "        W_out = 0.01 * np.random.randn(V, H).astype('f')\n",
    "\n",
    "        # 계층 생성\n",
    "        self.in_layers = []\n",
    "        for i in range(2 * window_size):\n",
    "            layer = Embedding(W_in)  # Embedding 계층 사용\n",
    "            self.in_layers.append(layer)\n",
    "        self.ns_loss = NegativeSamplingLoss(W_out, corpus, power=0.75, sample_size=5)\n",
    "\n",
    "        # 모든 가중치와 기울기를 배열에 모은다.\n",
    "        layers = self.in_layers + [self.ns_loss]\n",
    "        self.params, self.grads = [], []\n",
    "        for layer in layers:\n",
    "            self.params += layer.params\n",
    "            self.grads += layer.grads\n",
    "\n",
    "        # 인스턴스 변수에 단어의 분산 표현을 저장한다.\n",
    "        self.word_vecs = W_in\n",
    "\n",
    "    def forward(self, contexts, target):\n",
    "        h = 0\n",
    "        for i, layer in enumerate(self.in_layers):\n",
    "            h += layer.forward(contexts[:, i])\n",
    "        h *= 1 / len(self.in_layers)\n",
    "        loss = self.ns_loss.forward(h, target)\n",
    "        return loss\n",
    "\n",
    "    def backward(self, dout=1):\n",
    "        dout = self.ns_loss.backward(dout)\n",
    "        dout *= 1 / len(self.in_layers)\n",
    "        for layer in self.in_layers:\n",
    "            layer.backward(dout)\n",
    "        return None"
   ]
  },
  {
   "cell_type": "markdown",
   "metadata": {},
   "source": [
    "## 4.3.2 CBOW 모델 학습 코드\n"
   ]
  },
  {
   "cell_type": "code",
   "execution_count": 2,
   "metadata": {},
   "outputs": [
    {
     "name": "stdout",
     "output_type": "stream",
     "text": [
      "1 Physical GPUs, 1 Logical GPUs\n"
     ]
    },
    {
     "data": {
      "text/plain": [
       "[PhysicalDevice(name='/physical_device:GPU:0', device_type='GPU')]"
      ]
     },
     "execution_count": 2,
     "metadata": {},
     "output_type": "execute_result"
    }
   ],
   "source": [
    "import tensorflow as tf\n",
    "\n",
    "\n",
    "gpus = tf.config.experimental.list_physical_devices('GPU')\n",
    "if gpus:\n",
    "  try:\n",
    "    # Currently, memory growth needs to be the same across GPUs\n",
    "    for gpu in gpus:\n",
    "      tf.config.experimental.set_memory_growth(gpu, True)\n",
    "    logical_gpus = tf.config.experimental.list_logical_devices('GPU')\n",
    "    print(len(gpus), \"Physical GPUs,\", len(logical_gpus), \"Logical GPUs\")\n",
    "  except RuntimeError as e:\n",
    "    # Memory growth must be set before GPUs have been initialized\n",
    "    print(e)\n",
    "\n",
    "tf.config.list_physical_devices('GPU')"
   ]
  },
  {
   "cell_type": "code",
   "execution_count": 4,
   "metadata": {},
   "outputs": [
    {
     "name": "stdout",
     "output_type": "stream",
     "text": [
      "| 에폭 1 |  반복 1 / 9295 | 시간 0[s] | 손실 4.16\n",
      "| 에폭 1 |  반복 2001 / 9295 | 시간 72[s] | 손실 2.72\n",
      "| 에폭 1 |  반복 4001 / 9295 | 시간 145[s] | 손실 2.45\n",
      "| 에폭 1 |  반복 6001 / 9295 | 시간 218[s] | 손실 2.36\n",
      "| 에폭 1 |  반복 8001 / 9295 | 시간 292[s] | 손실 2.29\n",
      "| 에폭 2 |  반복 1 / 9295 | 시간 341[s] | 손실 2.24\n",
      "| 에폭 2 |  반복 2001 / 9295 | 시간 414[s] | 손실 2.16\n",
      "| 에폭 2 |  반복 4001 / 9295 | 시간 486[s] | 손실 2.12\n",
      "| 에폭 2 |  반복 6001 / 9295 | 시간 558[s] | 손실 2.08\n",
      "| 에폭 2 |  반복 8001 / 9295 | 시간 630[s] | 손실 2.05\n",
      "| 에폭 3 |  반복 1 / 9295 | 시간 677[s] | 손실 2.02\n",
      "| 에폭 3 |  반복 2001 / 9295 | 시간 749[s] | 손실 1.95\n",
      "| 에폭 3 |  반복 4001 / 9295 | 시간 824[s] | 손실 1.93\n",
      "| 에폭 3 |  반복 6001 / 9295 | 시간 897[s] | 손실 1.92\n",
      "| 에폭 3 |  반복 8001 / 9295 | 시간 970[s] | 손실 1.90\n",
      "| 에폭 4 |  반복 1 / 9295 | 시간 1017[s] | 손실 1.89\n",
      "| 에폭 4 |  반복 2001 / 9295 | 시간 1091[s] | 손실 1.82\n",
      "| 에폭 4 |  반복 4001 / 9295 | 시간 1163[s] | 손실 1.82\n",
      "| 에폭 4 |  반복 6001 / 9295 | 시간 1236[s] | 손실 1.81\n",
      "| 에폭 4 |  반복 8001 / 9295 | 시간 1308[s] | 손실 1.80\n",
      "| 에폭 5 |  반복 1 / 9295 | 시간 1355[s] | 손실 1.79\n",
      "| 에폭 5 |  반복 2001 / 9295 | 시간 1427[s] | 손실 1.72\n",
      "| 에폭 5 |  반복 4001 / 9295 | 시간 1499[s] | 손실 1.73\n",
      "| 에폭 5 |  반복 6001 / 9295 | 시간 1571[s] | 손실 1.72\n",
      "| 에폭 5 |  반복 8001 / 9295 | 시간 1643[s] | 손실 1.72\n",
      "| 에폭 6 |  반복 1 / 9295 | 시간 1690[s] | 손실 1.72\n",
      "| 에폭 6 |  반복 2001 / 9295 | 시간 1762[s] | 손실 1.64\n",
      "| 에폭 6 |  반복 4001 / 9295 | 시간 1834[s] | 손실 1.65\n",
      "| 에폭 6 |  반복 6001 / 9295 | 시간 1906[s] | 손실 1.64\n",
      "| 에폭 6 |  반복 8001 / 9295 | 시간 1978[s] | 손실 1.65\n",
      "| 에폭 7 |  반복 1 / 9295 | 시간 2024[s] | 손실 1.65\n",
      "| 에폭 7 |  반복 2001 / 9295 | 시간 2095[s] | 손실 1.58\n",
      "| 에폭 7 |  반복 4001 / 9295 | 시간 2166[s] | 손실 1.58\n",
      "| 에폭 7 |  반복 6001 / 9295 | 시간 2237[s] | 손실 1.59\n",
      "| 에폭 7 |  반복 8001 / 9295 | 시간 2308[s] | 손실 1.59\n",
      "| 에폭 8 |  반복 1 / 9295 | 시간 2354[s] | 손실 1.59\n",
      "| 에폭 8 |  반복 2001 / 9295 | 시간 2425[s] | 손실 1.52\n",
      "| 에폭 8 |  반복 4001 / 9295 | 시간 2496[s] | 손실 1.53\n",
      "| 에폭 8 |  반복 6001 / 9295 | 시간 2566[s] | 손실 1.54\n",
      "| 에폭 8 |  반복 8001 / 9295 | 시간 2637[s] | 손실 1.54\n",
      "| 에폭 9 |  반복 1 / 9295 | 시간 2683[s] | 손실 1.54\n",
      "| 에폭 9 |  반복 2001 / 9295 | 시간 2754[s] | 손실 1.47\n",
      "| 에폭 9 |  반복 4001 / 9295 | 시간 2825[s] | 손실 1.48\n",
      "| 에폭 9 |  반복 6001 / 9295 | 시간 2895[s] | 손실 1.49\n",
      "| 에폭 9 |  반복 8001 / 9295 | 시간 2966[s] | 손실 1.49\n",
      "| 에폭 10 |  반복 1 / 9295 | 시간 3012[s] | 손실 1.49\n",
      "| 에폭 10 |  반복 2001 / 9295 | 시간 3083[s] | 손실 1.42\n",
      "| 에폭 10 |  반복 4001 / 9295 | 시간 3154[s] | 손실 1.44\n",
      "| 에폭 10 |  반복 6001 / 9295 | 시간 3225[s] | 손실 1.44\n",
      "| 에폭 10 |  반복 8001 / 9295 | 시간 3295[s] | 손실 1.45\n"
     ]
    },
    {
     "name": "stderr",
     "output_type": "stream",
     "text": [
      "/home/aiffel0042/anaconda3/envs/aiffel/lib/python3.7/site-packages/matplotlib/backends/backend_agg.py:214: RuntimeWarning: Glyph 48152 missing from current font.\n",
      "  font.set_text(s, 0.0, flags=flags)\n",
      "/home/aiffel0042/anaconda3/envs/aiffel/lib/python3.7/site-packages/matplotlib/backends/backend_agg.py:214: RuntimeWarning: Glyph 48373 missing from current font.\n",
      "  font.set_text(s, 0.0, flags=flags)\n",
      "/home/aiffel0042/anaconda3/envs/aiffel/lib/python3.7/site-packages/matplotlib/backends/backend_agg.py:214: RuntimeWarning: Glyph 49552 missing from current font.\n",
      "  font.set_text(s, 0.0, flags=flags)\n",
      "/home/aiffel0042/anaconda3/envs/aiffel/lib/python3.7/site-packages/matplotlib/backends/backend_agg.py:214: RuntimeWarning: Glyph 49892 missing from current font.\n",
      "  font.set_text(s, 0.0, flags=flags)\n",
      "/home/aiffel0042/anaconda3/envs/aiffel/lib/python3.7/site-packages/matplotlib/backends/backend_agg.py:183: RuntimeWarning: Glyph 48152 missing from current font.\n",
      "  font.set_text(s, 0, flags=flags)\n",
      "/home/aiffel0042/anaconda3/envs/aiffel/lib/python3.7/site-packages/matplotlib/backends/backend_agg.py:183: RuntimeWarning: Glyph 48373 missing from current font.\n",
      "  font.set_text(s, 0, flags=flags)\n",
      "/home/aiffel0042/anaconda3/envs/aiffel/lib/python3.7/site-packages/matplotlib/backends/backend_agg.py:183: RuntimeWarning: Glyph 49552 missing from current font.\n",
      "  font.set_text(s, 0, flags=flags)\n",
      "/home/aiffel0042/anaconda3/envs/aiffel/lib/python3.7/site-packages/matplotlib/backends/backend_agg.py:183: RuntimeWarning: Glyph 49892 missing from current font.\n",
      "  font.set_text(s, 0, flags=flags)\n"
     ]
    },
    {
     "data": {
      "image/png": "[encoded data removed]",
      "text/plain": [
       "<Figure size 432x288 with 1 Axes>"
      ]
     },
     "metadata": {
      "needs_background": "light"
     },
     "output_type": "display_data"
    }
   ],
   "source": [
    "import sys\n",
    "sys.path.append('..')\n",
    "import numpy as np\n",
    "from common import config\n",
    "# GPU에서 실행하려면 아래 주석을 해제하세요(CuPy 필요).\n",
    "# ===============================================\n",
    "#config.GPU = True\n",
    "# ===============================================\n",
    "import pickle\n",
    "from common.trainer import Trainer\n",
    "from common.optimizer import Adam\n",
    "from common.cbow import CBOW\n",
    "from common.skip_gram import SkipGram\n",
    "from common.util import create_contexts_target, to_cpu, to_gpu\n",
    "from dataset import ptb\n",
    "\n",
    "\n",
    "# 하이퍼파라미터 설정\n",
    "window_size = 5\n",
    "hidden_size = 100\n",
    "batch_size = 100\n",
    "max_epoch = 10\n",
    "\n",
    "# 데이터 읽기\n",
    "corpus, word_to_id, id_to_word = ptb.load_data('train')\n",
    "vocab_size = len(word_to_id)\n",
    "\n",
    "contexts, target = create_contexts_target(corpus, window_size)\n",
    "if config.GPU:\n",
    "    contexts, target = to_gpu(contexts), to_gpu(target)\n",
    "\n",
    "# 모델 등 생성\n",
    "model = CBOW(vocab_size, hidden_size, window_size, corpus)\n",
    "# model = SkipGram(vocab_size, hidden_size, window_size, corpus)\n",
    "optimizer = Adam()\n",
    "trainer = Trainer(model, optimizer)\n",
    "\n",
    "# 학습 시작\n",
    "trainer.fit(contexts, target, max_epoch, batch_size, eval_interval=2000)\n",
    "trainer.plot()"
   ]
  },
  {
   "cell_type": "code",
   "execution_count": 5,
   "metadata": {},
   "outputs": [],
   "source": [
    "# 나중에 사용할 수 있도록 필요한 데이터 저장\n",
    "word_vecs = model.word_vecs\n",
    "if config.GPU:\n",
    "    word_vecs = to_cpu(word_vecs)\n",
    "params = {}\n",
    "params['word_vecs'] = word_vecs.astype(np.float16)\n",
    "params['word_to_id'] = word_to_id\n",
    "params['id_to_word'] = id_to_word\n",
    "pkl_file = 'cbow_params.pkl'  # or 'skipgram_params.pkl'\n",
    "with open(pkl_file, 'wb') as f:\n",
    "    pickle.dump(params, f, -1)"
   ]
  },
  {
   "cell_type": "markdown",
   "metadata": {},
   "source": [
    "## 4.3.3 CBOW 모델 평가\n",
    "\n"
   ]
  },
  {
   "cell_type": "code",
   "execution_count": 6,
   "metadata": {},
   "outputs": [
    {
     "name": "stdout",
     "output_type": "stream",
     "text": [
      "\n",
      "[query] you\n",
      " i: 0.724609375\n",
      " we: 0.72265625\n",
      " your: 0.63330078125\n",
      " they: 0.61865234375\n",
      " someone: 0.5751953125\n",
      "\n",
      "[query] year\n",
      " month: 0.8505859375\n",
      " week: 0.7880859375\n",
      " summer: 0.75537109375\n",
      " spring: 0.734375\n",
      " decade: 0.6806640625\n",
      "\n",
      "[query] car\n",
      " cars: 0.61572265625\n",
      " truck: 0.59814453125\n",
      " auto: 0.591796875\n",
      " luxury: 0.5732421875\n",
      " window: 0.55224609375\n",
      "\n",
      "[query] toyota\n",
      " honda: 0.63232421875\n",
      " seita: 0.6201171875\n",
      " nissan: 0.61767578125\n",
      " engines: 0.61572265625\n",
      " coated: 0.60595703125\n",
      "--------------------------------------------------\n",
      "\n",
      "[analogy] king:man = queen:?\n",
      " a.m: 7.17578125\n",
      " woman: 5.2109375\n",
      " wife: 4.7421875\n",
      " father: 4.70703125\n",
      " daffynition: 4.640625\n",
      "\n",
      "[analogy] take:took = go:?\n",
      " eurodollars: 4.453125\n",
      " were: 4.453125\n",
      " 're: 4.375\n",
      " went: 4.37109375\n",
      " was: 3.884765625\n",
      "\n",
      "[analogy] car:cars = child:?\n",
      " a.m: 8.46875\n",
      " rape: 5.68359375\n",
      " daffynition: 5.5\n",
      " children: 5.3828125\n",
      " bond-equivalent: 5.3046875\n",
      "\n",
      "[analogy] good:better = bad:?\n",
      " rather: 5.91015625\n",
      " more: 5.80859375\n",
      " less: 5.5546875\n",
      " greater: 4.7734375\n",
      " worse: 3.873046875\n"
     ]
    }
   ],
   "source": [
    "import sys\n",
    "sys.path.append('..')\n",
    "from common.util import most_similar, analogy\n",
    "import pickle\n",
    "\n",
    "\n",
    "pkl_file = 'cbow_params.pkl'\n",
    "# pkl_file = 'skipgram_params.pkl'\n",
    "\n",
    "with open(pkl_file, 'rb') as f:\n",
    "    params = pickle.load(f)\n",
    "    word_vecs = params['word_vecs']\n",
    "    word_to_id = params['word_to_id']\n",
    "    id_to_word = params['id_to_word']\n",
    "\n",
    "# 가장 비슷한(most similar) 단어 뽑기\n",
    "querys = ['you', 'year', 'car', 'toyota']\n",
    "for query in querys:\n",
    "    most_similar(query, word_to_id, id_to_word, word_vecs, top=5)\n",
    "\n",
    "# 유추(analogy) 작업\n",
    "print('-'*50)\n",
    "analogy('king', 'man', 'queen',  word_to_id, id_to_word, word_vecs)\n",
    "analogy('take', 'took', 'go',  word_to_id, id_to_word, word_vecs)\n",
    "analogy('car', 'cars', 'child',  word_to_id, id_to_word, word_vecs)\n",
    "analogy('good', 'better', 'bad',  word_to_id, id_to_word, word_vecs)\n"
   ]
  },
  {
   "cell_type": "code",
   "execution_count": null,
   "metadata": {},
   "outputs": [],
   "source": []
  }
 ],
 "metadata": {
  "kernelspec": {
   "display_name": "aiffel",
   "language": "python",
   "name": "aiffel"
  },
  "language_info": {
   "codemirror_mode": {
    "name": "ipython",
    "version": 3
   },
   "file_extension": ".py",
   "mimetype": "text/x-python",
   "name": "python",
   "nbconvert_exporter": "python",
   "pygments_lexer": "ipython3",
   "version": "3.7.6"
  }
 },
 "nbformat": 4,
 "nbformat_minor": 4
}
