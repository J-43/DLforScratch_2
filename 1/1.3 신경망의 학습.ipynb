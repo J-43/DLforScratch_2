{
 "cells": [
  {
   "cell_type": "markdown",
   "metadata": {},
   "source": [
    "### 1.3.1 손실함수\n",
    "### 1.3.2 미분과 기울기\n",
    "### 1.3.3 연쇄법칙\n",
    "### 1.3.4 계산 그래프"
   ]
  },
  {
   "cell_type": "code",
   "execution_count": 4,
   "metadata": {},
   "outputs": [],
   "source": [
    "# Repeat노드\n",
    "import numpy as np\n",
    "\n",
    "D, N = 8, 7\n",
    "x = np.random.randn(1, D)               # 입력\n",
    "y = np.repeat(x, N, axis=0)             # 순전파\n",
    "dy = np.random.randn(N, D)              # 무작위 기울기\n",
    "dx = np.sum(dy, axis=0, keepdims=True)  # 역전파\n"
   ]
  },
  {
   "cell_type": "markdown",
   "metadata": {},
   "source": [
    "- np.repeat()메서드가 원소 복제를 수행\n",
    "- 배열 x를 N번 복제하는데, 이때 axis를 지정하여 어느축 방향으로 복제할지를 조정할수 있음.\n",
    "- 역전파에서는 총합을 구해야하므로 np.sum()메스드를 이용. 이때도 axis 인수를 설정하여 어느축 방향으로 합을 구할지 지정.\n",
    "- 인수로 keepdims=True 를 설정하여 2차원 배열의 차원 수를 유지.\n",
    "- 이 예에서는 keepdims가 True면 np.sum()의 결과의 형상은 (1,D)가 되며, False면 (D)가 됨."
   ]
  },
  {
   "cell_type": "code",
   "execution_count": 7,
   "metadata": {},
   "outputs": [],
   "source": [
    "# Sum노드\n",
    "\n",
    "D, N = 8, 7\n",
    "x = np.random.randn(N, D)               # 입력\n",
    "y = np.sum(x, axis=0, keepdims=True)    # 순전파\n",
    "dy = np.random.randn(1, D)              # 무작위 기울기\n",
    "dx = np.repeat(dy, N, axis=0)           # 역전파\n"
   ]
  },
  {
   "cell_type": "markdown",
   "metadata": {},
   "source": [
    "- Sum노드의 순전파는 np.sum()메서드로, 역전파는 np.repeat()메서드로 구현.\n",
    "- Sum노드와 Repeat노드는 서로 '반대관계'\n"
   ]
  },
  {
   "cell_type": "code",
   "execution_count": 8,
   "metadata": {},
   "outputs": [],
   "source": [
    "# MatMul노드 (matrix multiply)\n",
    "class MatMul:\n",
    "    def __init__(self, W):\n",
    "        self.params = [W]\n",
    "        self.grads = [np.zeros_like(W)]\n",
    "        self.x = None\n",
    "    \n",
    "    def forward(self, x):\n",
    "        W, = self.params\n",
    "        out = np.matmul(x,W)\n",
    "        self.x = x\n",
    "        return out\n",
    "    \n",
    "    def backward(self, dout):\n",
    "        W, = self.params\n",
    "        dx = np.matmul(dout, W.T)\n",
    "        dW = np.matmul(self.x.T, dout)\n",
    "        self.grads[0][...] = dW\n",
    "        return dx"
   ]
  },
  {
   "cell_type": "markdown",
   "metadata": {},
   "source": [
    "- MutMul계층은 학습하는 매개변수를 params에 보관.\n",
    "- 거기에 대응시키는 형태로, 기울기는 grads에 보관.\n",
    "- 역전파에서는 dx와 dW를 구해 가중치의 기울기를 인스턴스 변수인 grads에 저장.\n",
    "- 기울기 값을 설정하는 grads[0][...]=dW 코드에서 점 3개로 이뤄진 생략 기호(...)사용.\n",
    "- 이렇게 하면 넘파이 배열이 가리키는 메모리 위치를 고정시킨 다음, 그 위치에 원소들을 덮어씀.\n",
    "- 이처럼 메모리 주소를 고정함으로써 인스턴스 변수 grads를 다루기가 더 쉬워짐."
   ]
  },
  {
   "cell_type": "markdown",
   "metadata": {},
   "source": [
    "### 1.3.5 기울기 도출과 역전파 구현"
   ]
  },
  {
   "cell_type": "code",
   "execution_count": 9,
   "metadata": {},
   "outputs": [],
   "source": [
    "# Sigmoid 계층\n",
    "\n",
    "class Sigmoid:\n",
    "    def __init__(self):\n",
    "        self.params, self.grads = [], []\n",
    "        self.out = None\n",
    "        \n",
    "    def forward(self, x):\n",
    "        out = 1 / (1 + np.exp(-x))\n",
    "        self.out = out\n",
    "        return out\n",
    "    \n",
    "    def backward(self, dout):\n",
    "        dx = dout * (1.0 - self.out) * self.out\n",
    "        return dx"
   ]
  },
  {
   "cell_type": "markdown",
   "metadata": {},
   "source": [
    "순전파 때는 인스턴스 변수 out에 저장하고, 역전파를 계산할 때 이 out변수를 사용."
   ]
  },
  {
   "cell_type": "code",
   "execution_count": 10,
   "metadata": {},
   "outputs": [],
   "source": [
    "# Affine 계층\n",
    "class Affine:\n",
    "    def __init__(self, W, b):\n",
    "        self.params = [W,b]\n",
    "        self.grads = [np.zeros_like(W), np.zeros_like(b)]\n",
    "        self.x = None\n",
    "        \n",
    "    def forward(self,x):\n",
    "        W, b = self.params\n",
    "        out = np.matmul(x,W) + b\n",
    "        self.x = x\n",
    "        return out\n",
    "    \n",
    "    def backward(self, dout):\n",
    "        W,b = self.params\n",
    "        dx = np.matmul(dout, W.T)\n",
    "        dW = np.matmul(self.x.T, dout)\n",
    "        db = np.sum(dout, axis=0)\n",
    "        \n",
    "        self.grads[0][...] = dW\n",
    "        self.grads[1][...] = db\n",
    "        return dx"
   ]
  },
  {
   "cell_type": "markdown",
   "metadata": {},
   "source": [
    "- 인스턴스 변수 params에는 매개변수를, grads에는 기울기 저장.\n",
    "- 가중치 매개변수의 기울기를 인스턴스 변수 grads에 저장."
   ]
  },
  {
   "cell_type": "markdown",
   "metadata": {},
   "source": [
    "### 1.3.6 가중치 갱신\n",
    "\n",
    "오차역전파로 기울기를 구했으면, 그 기울기를 사용해 신경망의 매개변수를 갱신함.\n",
    "- 1단계: 미니배치 _ 훈련 데이터 중에서 무작위로 다수의 데이터를 골라낸다.\n",
    "- 2단계: 기울기 계산 _ 오차역전파로 각 가중치 매개변수에 대한 손실 함수의 기울기를 구한다.\n",
    "- 3단계: 매개변수 갱신 _ 기울기를 사용하여 가중치 매개변수를 갱신한다.\n",
    "- 4단계: 반복 _ 1~3 단계를 필요한 만큼 반복한다."
   ]
  },
  {
   "cell_type": "code",
   "execution_count": 11,
   "metadata": {},
   "outputs": [],
   "source": [
    "# SGD\n",
    "class SGD:\n",
    "    def __init__(self, lr=0.01):\n",
    "        self.lr = lr\n",
    "    \n",
    "    def update(self, params, grads):\n",
    "        for i in range(len(params)):\n",
    "            params[i] -= self.lr * grads[i]"
   ]
  },
  {
   "cell_type": "markdown",
   "metadata": {},
   "source": [
    "- 초기화 인수 lr은 학습률을 뜻하며, 그 값을 인스턴스 변수로 저장. 그리고 update(params,grads)메서드는 매개변수 갱신을 처리."
   ]
  },
  {
   "cell_type": "code",
   "execution_count": null,
   "metadata": {},
   "outputs": [],
   "source": [
    "# SGD클래스를 사용하면 신경망의 매개변수 갱신을 다음처럼 할수있음.\n",
    "# 실제로 동작하지 않는 의사코드\n",
    "model = TwoLayerNet(...)\n",
    "optimizer = SGD()\n",
    "\n",
    "for in range(10000):\n",
    "    ...\n",
    "    x_batch, t_batch = get_mini_batch(...)  # 미니배치 획득\n",
    "    loss = model.forward(x_batch,t_batch)\n",
    "    model.backward()\n",
    "    optimizer.update(model.params,model.grads)\n",
    "    ...\n",
    "    "
   ]
  },
  {
   "cell_type": "code",
   "execution_count": null,
   "metadata": {},
   "outputs": [],
   "source": []
  }
 ],
 "metadata": {
  "kernelspec": {
   "display_name": "Python 3",
   "language": "python",
   "name": "python3"
  },
  "language_info": {
   "codemirror_mode": {
    "name": "ipython",
    "version": 3
   },
   "file_extension": ".py",
   "mimetype": "text/x-python",
   "name": "python",
   "nbconvert_exporter": "python",
   "pygments_lexer": "ipython3",
   "version": "3.7.6"
  }
 },
 "nbformat": 4,
 "nbformat_minor": 4
}
